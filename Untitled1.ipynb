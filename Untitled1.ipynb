{
  "nbformat": 4,
  "nbformat_minor": 0,
  "metadata": {
    "colab": {
      "provenance": [],
      "authorship_tag": "ABX9TyPJfihbcNvJrxPwWG7O3Jo4",
      "include_colab_link": true
    },
    "kernelspec": {
      "name": "python3",
      "display_name": "Python 3"
    },
    "language_info": {
      "name": "python"
    }
  },
  "cells": [
    {
      "cell_type": "markdown",
      "metadata": {
        "id": "view-in-github",
        "colab_type": "text"
      },
      "source": [
        "<a href=\"https://colab.research.google.com/github/stewartjollymore/NLP_CourseUCSD/blob/main/Untitled1.ipynb\" target=\"_parent\"><img src=\"https://colab.research.google.com/assets/colab-badge.svg\" alt=\"Open In Colab\"/></a>"
      ]
    },
    {
      "cell_type": "code",
      "execution_count": null,
      "metadata": {
        "colab": {
          "base_uri": "https://localhost:8080/"
        },
        "id": "rFLm_CpRUUSd",
        "outputId": "3fe14442-511f-4aae-b8ab-5d1804d3786d"
      },
      "outputs": [
        {
          "output_type": "stream",
          "name": "stderr",
          "text": [
            "[nltk_data] Downloading package punkt to /root/nltk_data...\n",
            "[nltk_data]   Package punkt is already up-to-date!\n",
            "[nltk_data] Downloading package brown to /root/nltk_data...\n",
            "[nltk_data]   Package brown is already up-to-date!\n",
            "[nltk_data] Downloading package stopwords to /root/nltk_data...\n",
            "[nltk_data]   Package stopwords is already up-to-date!\n"
          ]
        }
      ],
      "source": [
        "from textblob import TextBlob\n",
        "import nltk\n",
        "nltk.download('punkt')\n",
        "nltk.download('brown')\n",
        "nltk.download('stopwords')\n",
        "from nltk.corpus import stopwords\n"
      ]
    },
    {
      "cell_type": "code",
      "source": [
        "from google.colab import files\n",
        "files.upload()"
      ],
      "metadata": {
        "id": "F7M_2qL1VWum"
      },
      "execution_count": null,
      "outputs": []
    },
    {
      "cell_type": "code",
      "source": [
        "rj_text = open('RomeoJuliet.txt').read()\n",
        "\n",
        "rj_blob = TextBlob(rj_text)"
      ],
      "metadata": {
        "id": "Jvnc1SadVxaR"
      },
      "execution_count": null,
      "outputs": []
    },
    {
      "cell_type": "code",
      "source": [
        "def print_n_words (text, n):\n",
        "\n",
        "  # text: input text\n",
        "  # n: number of words to print per line\n",
        "  for chunk in range(0, len(text), n):\n",
        "\n",
        "    for word in range(chunk, chunk+n):\n",
        "      if (word >=len(text)):\n",
        "        break\n",
        "      print(word, '.',text[word], end=', ')\n",
        "    print()\n",
        "  print()\n",
        "\n",
        "\n"
      ],
      "metadata": {
        "id": "Fzl4pWDtXMnF"
      },
      "execution_count": null,
      "outputs": []
    },
    {
      "cell_type": "code",
      "source": [
        "stop_words = stopwords.words('english')\n",
        "print_n_words(stop_words, 10)"
      ],
      "metadata": {
        "colab": {
          "base_uri": "https://localhost:8080/"
        },
        "id": "bCQa5EbaZOQP",
        "outputId": "90cc22c8-87a0-4212-e655-0da48114fe51"
      },
      "execution_count": null,
      "outputs": [
        {
          "output_type": "stream",
          "name": "stdout",
          "text": [
            "0 . i, 1 . me, 2 . my, 3 . myself, 4 . we, 5 . our, 6 . ours, 7 . ourselves, 8 . you, 9 . you're, \n",
            "10 . you've, 11 . you'll, 12 . you'd, 13 . your, 14 . yours, 15 . yourself, 16 . yourselves, 17 . he, 18 . him, 19 . his, \n",
            "20 . himself, 21 . she, 22 . she's, 23 . her, 24 . hers, 25 . herself, 26 . it, 27 . it's, 28 . its, 29 . itself, \n",
            "30 . they, 31 . them, 32 . their, 33 . theirs, 34 . themselves, 35 . what, 36 . which, 37 . who, 38 . whom, 39 . this, \n",
            "40 . that, 41 . that'll, 42 . these, 43 . those, 44 . am, 45 . is, 46 . are, 47 . was, 48 . were, 49 . be, \n",
            "50 . been, 51 . being, 52 . have, 53 . has, 54 . had, 55 . having, 56 . do, 57 . does, 58 . did, 59 . doing, \n",
            "60 . a, 61 . an, 62 . the, 63 . and, 64 . but, 65 . if, 66 . or, 67 . because, 68 . as, 69 . until, \n",
            "70 . while, 71 . of, 72 . at, 73 . by, 74 . for, 75 . with, 76 . about, 77 . against, 78 . between, 79 . into, \n",
            "80 . through, 81 . during, 82 . before, 83 . after, 84 . above, 85 . below, 86 . to, 87 . from, 88 . up, 89 . down, \n",
            "90 . in, 91 . out, 92 . on, 93 . off, 94 . over, 95 . under, 96 . again, 97 . further, 98 . then, 99 . once, \n",
            "100 . here, 101 . there, 102 . when, 103 . where, 104 . why, 105 . how, 106 . all, 107 . any, 108 . both, 109 . each, \n",
            "110 . few, 111 . more, 112 . most, 113 . other, 114 . some, 115 . such, 116 . no, 117 . nor, 118 . not, 119 . only, \n",
            "120 . own, 121 . same, 122 . so, 123 . than, 124 . too, 125 . very, 126 . s, 127 . t, 128 . can, 129 . will, \n",
            "130 . just, 131 . don, 132 . don't, 133 . should, 134 . should've, 135 . now, 136 . d, 137 . ll, 138 . m, 139 . o, \n",
            "140 . re, 141 . ve, 142 . y, 143 . ain, 144 . aren, 145 . aren't, 146 . couldn, 147 . couldn't, 148 . didn, 149 . didn't, \n",
            "150 . doesn, 151 . doesn't, 152 . hadn, 153 . hadn't, 154 . hasn, 155 . hasn't, 156 . haven, 157 . haven't, 158 . isn, 159 . isn't, \n",
            "160 . ma, 161 . mightn, 162 . mightn't, 163 . mustn, 164 . mustn't, 165 . needn, 166 . needn't, 167 . shan, 168 . shan't, 169 . shouldn, \n",
            "170 . shouldn't, 171 . wasn, 172 . wasn't, 173 . weren, 174 . weren't, 175 . won, 176 . won't, 177 . wouldn, 178 . wouldn't, \n",
            "\n"
          ]
        }
      ]
    },
    {
      "cell_type": "code",
      "source": [
        "n_words = 1000\n",
        "rj_1000 = rj_text[0:n_words+1]\n",
        "blob_1000 = TextBlob(rj_1000)"
      ],
      "metadata": {
        "id": "_4lzw0VjZ-kp"
      },
      "execution_count": null,
      "outputs": []
    },
    {
      "cell_type": "code",
      "source": [
        "print_n_words(blob_1000.words,10)"
      ],
      "metadata": {
        "colab": {
          "base_uri": "https://localhost:8080/"
        },
        "id": "5N3CclM9cX9x",
        "outputId": "4ede1a47-dd47-4c51-a04f-8a4faca466e0"
      },
      "execution_count": null,
      "outputs": [
        {
          "output_type": "stream",
          "name": "stdout",
          "text": [
            "0 . Project, 1 . Gutenberg, 2 . ’, 3 . s, 4 . Romeo, 5 . and, 6 . Juliet, 7 . by, 8 . William, 9 . Shakespeare, \n",
            "10 . This, 11 . eBook, 12 . is, 13 . for, 14 . the, 15 . use, 16 . of, 17 . anyone, 18 . anywhere, 19 . in, \n",
            "20 . the, 21 . United, 22 . States, 23 . and, 24 . most, 25 . other, 26 . parts, 27 . of, 28 . the, 29 . world, \n",
            "30 . at, 31 . no, 32 . cost, 33 . and, 34 . with, 35 . almost, 36 . no, 37 . restrictions, 38 . whatsoever, 39 . You, \n",
            "40 . may, 41 . copy, 42 . it, 43 . give, 44 . it, 45 . away, 46 . or, 47 . re-use, 48 . it, 49 . under, \n",
            "50 . the, 51 . terms, 52 . of, 53 . the, 54 . Project, 55 . Gutenberg, 56 . License, 57 . included, 58 . with, 59 . this, \n",
            "60 . eBook, 61 . or, 62 . online, 63 . at, 64 . www.gutenberg.org, 65 . If, 66 . you, 67 . are, 68 . not, 69 . located, \n",
            "70 . in, 71 . the, 72 . United, 73 . States, 74 . you, 75 . ’, 76 . ll, 77 . have, 78 . to, 79 . check, \n",
            "80 . the, 81 . laws, 82 . of, 83 . the, 84 . country, 85 . where, 86 . you, 87 . are, 88 . located, 89 . before, \n",
            "90 . using, 91 . this, 92 . ebook, 93 . Title, 94 . Romeo, 95 . and, 96 . Juliet, 97 . Author, 98 . William, 99 . Shakespeare, \n",
            "100 . Release, 101 . Date, 102 . November, 103 . 1998, 104 . Etext, 105 . 1513, 106 . Last, 107 . Updated, 108 . January, 109 . 30, \n",
            "110 . 2019, 111 . Language, 112 . English, 113 . Character, 114 . set, 115 . encoding, 116 . UTF-8, 117 . START, 118 . OF, 119 . THIS, \n",
            "120 . PROJECT, 121 . GUTENBERG, 122 . EBOOK, 123 . ROMEO, 124 . AND, 125 . JULIET, 126 . This, 127 . etext, 128 . was, 129 . produced, \n",
            "130 . by, 131 . the, 132 . PG, 133 . Shakespeare, 134 . Team, 135 . a, 136 . team, 137 . of, 138 . about, 139 . twenty, \n",
            "140 . Project, 141 . Gutenberg, 142 . volunteers, 143 . THE, 144 . TRAGEDY, 145 . OF, 146 . ROMEO, 147 . AND, 148 . JULIET, 149 . by, \n",
            "150 . William, 151 . Shakespeare, 152 . Contents, 153 . THE, 154 . PROLOGUE, 155 . ACT, 156 . I, 157 . Scene, 158 . I, 159 . A, \n",
            "160 . public, 161 . place, 162 . Scene, 163 . II, 164 . A, 165 . Street, 166 . Sc, \n",
            "\n"
          ]
        }
      ]
    },
    {
      "cell_type": "code",
      "source": [
        "f\"Total number of words in the text is {len(TextBlob(rj_text).words)}\""
      ],
      "metadata": {
        "colab": {
          "base_uri": "https://localhost:8080/",
          "height": 36
        },
        "id": "JNLT5q5lcqLO",
        "outputId": "7bd4bd3e-4d89-46c9-b0af-0876afdd0c5a"
      },
      "execution_count": null,
      "outputs": [
        {
          "output_type": "execute_result",
          "data": {
            "text/plain": [
              "'Total number of words in the text is 30796'"
            ],
            "application/vnd.google.colaboratory.intrinsic+json": {
              "type": "string"
            }
          },
          "metadata": {},
          "execution_count": 34
        }
      ]
    },
    {
      "cell_type": "code",
      "source": [
        "f\"Number of unique words in text is {len(TextBlob(rj_text).word_counts.items())}\""
      ],
      "metadata": {
        "colab": {
          "base_uri": "https://localhost:8080/",
          "height": 36
        },
        "id": "MPaitB4AdaK4",
        "outputId": "7e4c55e7-44ce-4781-d807-1b837af81684"
      },
      "execution_count": null,
      "outputs": [
        {
          "output_type": "execute_result",
          "data": {
            "text/plain": [
              "'Number of unique words in text is 4145'"
            ],
            "application/vnd.google.colaboratory.intrinsic+json": {
              "type": "string"
            }
          },
          "metadata": {},
          "execution_count": 36
        }
      ]
    },
    {
      "cell_type": "code",
      "source": [
        "rj_unique = TextBlob(rj_text).word_counts.items()\n",
        "\n",
        "unique_noStop = []\n",
        "rj_stopwords = []\n",
        "\n",
        "for entry in TextBlob(rj_text).word_counts.items():\n",
        "  if entry[0] not in stop_words:\n",
        "    unique_noStop.append(entry)\n",
        "  else:\n",
        "    rj_stopwords.append(entry)\n",
        "\n",
        "f\"Number of unique non-stop words is {len(unique_noStop)} and the number of stop words is {len(rj_stopwords)}\""
      ],
      "metadata": {
        "colab": {
          "base_uri": "https://localhost:8080/",
          "height": 36
        },
        "id": "-R0BMaJueEKq",
        "outputId": "59a57a74-b8ab-4bae-fefe-d835106d6621"
      },
      "execution_count": null,
      "outputs": [
        {
          "output_type": "execute_result",
          "data": {
            "text/plain": [
              "'Number of unique non-stop words is 4017 and the number of stop words is 128'"
            ],
            "application/vnd.google.colaboratory.intrinsic+json": {
              "type": "string"
            }
          },
          "metadata": {},
          "execution_count": 49
        }
      ]
    },
    {
      "cell_type": "code",
      "source": [
        "from operator import itemgetter\n",
        "\n",
        "top_words =sorted(list(rj_unique), key=itemgetter(1), reverse=True)[0:10]\n",
        "\n",
        "for word in top_words:\n",
        "  print(word[1], word[0])\n"
      ],
      "metadata": {
        "colab": {
          "base_uri": "https://localhost:8080/"
        },
        "id": "1DYlJw_HerOd",
        "outputId": "8a33976c-4eff-4876-aaba-276003e884e9"
      },
      "execution_count": null,
      "outputs": [
        {
          "output_type": "stream",
          "name": "stdout",
          "text": [
            "876 the\n",
            "869 ’\n",
            "808 and\n",
            "655 i\n",
            "626 to\n",
            "542 a\n",
            "519 of\n",
            "395 in\n",
            "372 is\n",
            "369 that\n"
          ]
        }
      ]
    },
    {
      "cell_type": "code",
      "source": [
        "print(\"Number of noun phrases\",len(TextBlob(rj_text).noun_phrases))\n",
        "print(\"number of unique noun phrases is \",len(TextBlob(rj_text).np_counts))"
      ],
      "metadata": {
        "colab": {
          "base_uri": "https://localhost:8080/"
        },
        "id": "XGWibULhk6f7",
        "outputId": "64f76479-8c49-4695-b910-111a80d64af6"
      },
      "execution_count": null,
      "outputs": [
        {
          "output_type": "stream",
          "name": "stdout",
          "text": [
            "Number of noun phrases 5039\n",
            "number of unique noun phrases is  2306\n"
          ]
        }
      ]
    },
    {
      "cell_type": "code",
      "source": [
        "dic = TextBlob(rj_text).np_counts\n",
        "top_nps = sorted(dic, key=dic.get, reverse = True)[0:10]"
      ],
      "metadata": {
        "id": "pcBT0Qx9mH0n"
      },
      "execution_count": null,
      "outputs": []
    },
    {
      "cell_type": "code",
      "source": [
        "for np in range(0,10):\n",
        "  key = top_nps[np]\n",
        "  value = dic[key]\n",
        "  print(np, \" \", key +' repeats', str(value), ' times')"
      ],
      "metadata": {
        "id": "CRYDcsbvngm-",
        "colab": {
          "base_uri": "https://localhost:8080/"
        },
        "outputId": "00c307c7-257e-4483-8bee-5bbb44c0a1e5"
      },
      "execution_count": null,
      "outputs": [
        {
          "output_type": "stream",
          "name": "stdout",
          "text": [
            "0   romeo repeats 297  times\n",
            "1   juliet repeats 177  times\n",
            "2   nurse repeats 132  times\n",
            "3   capulet repeats 106  times\n",
            "4   ’ s repeats 98  times\n",
            "5   mercutio repeats 86  times\n",
            "6   tybalt repeats 75  times\n",
            "7   benvolio repeats 72  times\n",
            "8   friar lawrence repeats 69  times\n",
            "9   ’ ll repeats 68  times\n"
          ]
        }
      ]
    },
    {
      "cell_type": "code",
      "source": [
        "for np in range(0,10):\n",
        "  key = top_nps[np]\n",
        "  value = dic[key]\n",
        "  print(np, ' ', key.capitalize(), ' repeats', str(value), ' times')"
      ],
      "metadata": {
        "colab": {
          "base_uri": "https://localhost:8080/"
        },
        "id": "SZ9UsVkqo2EP",
        "outputId": "af8f8443-c42d-49ad-d877-532c73b88a59"
      },
      "execution_count": null,
      "outputs": [
        {
          "output_type": "stream",
          "name": "stdout",
          "text": [
            "0   Romeo  repeats 297  times\n",
            "1   Juliet  repeats 177  times\n",
            "2   Nurse  repeats 132  times\n",
            "3   Capulet  repeats 106  times\n",
            "4   ’ s  repeats 98  times\n",
            "5   Mercutio  repeats 86  times\n",
            "6   Tybalt  repeats 75  times\n",
            "7   Benvolio  repeats 72  times\n",
            "8   Friar lawrence  repeats 69  times\n",
            "9   ’ ll  repeats 68  times\n"
          ]
        }
      ]
    },
    {
      "cell_type": "code",
      "source": [
        "for np in range(0,10):\n",
        "  key = top_nps[np]\n",
        "  value = dic[key]\n",
        "  print(np, ' ', key.title(), ' repeats', str(value), ' times')"
      ],
      "metadata": {
        "colab": {
          "base_uri": "https://localhost:8080/"
        },
        "id": "CHGRwKEApsHo",
        "outputId": "70402e36-0bda-4b83-87b7-87d5b726891e"
      },
      "execution_count": null,
      "outputs": [
        {
          "output_type": "stream",
          "name": "stdout",
          "text": [
            "0   Romeo  repeats 297  times\n",
            "1   Juliet  repeats 177  times\n",
            "2   Nurse  repeats 132  times\n",
            "3   Capulet  repeats 106  times\n",
            "4   ’ S  repeats 98  times\n",
            "5   Mercutio  repeats 86  times\n",
            "6   Tybalt  repeats 75  times\n",
            "7   Benvolio  repeats 72  times\n",
            "8   Friar Lawrence  repeats 69  times\n",
            "9   ’ Ll  repeats 68  times\n"
          ]
        }
      ]
    },
    {
      "cell_type": "code",
      "source": [
        "for word in TextBlob(rj_text).words:\n",
        "  if 'WA' in word:\n",
        "    print(word)"
      ],
      "metadata": {
        "colab": {
          "base_uri": "https://localhost:8080/"
        },
        "id": "Vdfu4URjqB6C",
        "outputId": "176aab89-1e5f-4742-ac08-8e6899d897e4"
      },
      "execution_count": null,
      "outputs": [
        {
          "output_type": "stream",
          "name": "stdout",
          "text": [
            "WATCH\n",
            "WATCH\n",
            "WATCH\n",
            "WATCH\n",
            "WATCH\n",
            "WATCH\n",
            "WATCH\n",
            "WATCH\n",
            "WARRANTY\n",
            "WARRANTY\n",
            "WARRANTIES\n",
            "WARRANTIES\n"
          ]
        }
      ]
    },
    {
      "cell_type": "code",
      "source": [
        "uploaded = files.upload()\n",
        "file_name = list(uploaded.keys())[0]\n",
        "print()\n",
        "print(\"The mask file name = :\", str(file_name))"
      ],
      "metadata": {
        "colab": {
          "base_uri": "https://localhost:8080/",
          "height": 113
        },
        "id": "Mg1yW6SerxXJ",
        "outputId": "2dc219da-2c1f-412a-fa3f-f98f758986c1"
      },
      "execution_count": null,
      "outputs": [
        {
          "output_type": "display_data",
          "data": {
            "text/plain": [
              "<IPython.core.display.HTML object>"
            ],
            "text/html": [
              "\n",
              "     <input type=\"file\" id=\"files-675552d7-9e64-4a3c-a2c2-3e62cfcc45fa\" name=\"files[]\" multiple disabled\n",
              "        style=\"border:none\" />\n",
              "     <output id=\"result-675552d7-9e64-4a3c-a2c2-3e62cfcc45fa\">\n",
              "      Upload widget is only available when the cell has been executed in the\n",
              "      current browser session. Please rerun this cell to enable.\n",
              "      </output>\n",
              "      <script>// Copyright 2017 Google LLC\n",
              "//\n",
              "// Licensed under the Apache License, Version 2.0 (the \"License\");\n",
              "// you may not use this file except in compliance with the License.\n",
              "// You may obtain a copy of the License at\n",
              "//\n",
              "//      http://www.apache.org/licenses/LICENSE-2.0\n",
              "//\n",
              "// Unless required by applicable law or agreed to in writing, software\n",
              "// distributed under the License is distributed on an \"AS IS\" BASIS,\n",
              "// WITHOUT WARRANTIES OR CONDITIONS OF ANY KIND, either express or implied.\n",
              "// See the License for the specific language governing permissions and\n",
              "// limitations under the License.\n",
              "\n",
              "/**\n",
              " * @fileoverview Helpers for google.colab Python module.\n",
              " */\n",
              "(function(scope) {\n",
              "function span(text, styleAttributes = {}) {\n",
              "  const element = document.createElement('span');\n",
              "  element.textContent = text;\n",
              "  for (const key of Object.keys(styleAttributes)) {\n",
              "    element.style[key] = styleAttributes[key];\n",
              "  }\n",
              "  return element;\n",
              "}\n",
              "\n",
              "// Max number of bytes which will be uploaded at a time.\n",
              "const MAX_PAYLOAD_SIZE = 100 * 1024;\n",
              "\n",
              "function _uploadFiles(inputId, outputId) {\n",
              "  const steps = uploadFilesStep(inputId, outputId);\n",
              "  const outputElement = document.getElementById(outputId);\n",
              "  // Cache steps on the outputElement to make it available for the next call\n",
              "  // to uploadFilesContinue from Python.\n",
              "  outputElement.steps = steps;\n",
              "\n",
              "  return _uploadFilesContinue(outputId);\n",
              "}\n",
              "\n",
              "// This is roughly an async generator (not supported in the browser yet),\n",
              "// where there are multiple asynchronous steps and the Python side is going\n",
              "// to poll for completion of each step.\n",
              "// This uses a Promise to block the python side on completion of each step,\n",
              "// then passes the result of the previous step as the input to the next step.\n",
              "function _uploadFilesContinue(outputId) {\n",
              "  const outputElement = document.getElementById(outputId);\n",
              "  const steps = outputElement.steps;\n",
              "\n",
              "  const next = steps.next(outputElement.lastPromiseValue);\n",
              "  return Promise.resolve(next.value.promise).then((value) => {\n",
              "    // Cache the last promise value to make it available to the next\n",
              "    // step of the generator.\n",
              "    outputElement.lastPromiseValue = value;\n",
              "    return next.value.response;\n",
              "  });\n",
              "}\n",
              "\n",
              "/**\n",
              " * Generator function which is called between each async step of the upload\n",
              " * process.\n",
              " * @param {string} inputId Element ID of the input file picker element.\n",
              " * @param {string} outputId Element ID of the output display.\n",
              " * @return {!Iterable<!Object>} Iterable of next steps.\n",
              " */\n",
              "function* uploadFilesStep(inputId, outputId) {\n",
              "  const inputElement = document.getElementById(inputId);\n",
              "  inputElement.disabled = false;\n",
              "\n",
              "  const outputElement = document.getElementById(outputId);\n",
              "  outputElement.innerHTML = '';\n",
              "\n",
              "  const pickedPromise = new Promise((resolve) => {\n",
              "    inputElement.addEventListener('change', (e) => {\n",
              "      resolve(e.target.files);\n",
              "    });\n",
              "  });\n",
              "\n",
              "  const cancel = document.createElement('button');\n",
              "  inputElement.parentElement.appendChild(cancel);\n",
              "  cancel.textContent = 'Cancel upload';\n",
              "  const cancelPromise = new Promise((resolve) => {\n",
              "    cancel.onclick = () => {\n",
              "      resolve(null);\n",
              "    };\n",
              "  });\n",
              "\n",
              "  // Wait for the user to pick the files.\n",
              "  const files = yield {\n",
              "    promise: Promise.race([pickedPromise, cancelPromise]),\n",
              "    response: {\n",
              "      action: 'starting',\n",
              "    }\n",
              "  };\n",
              "\n",
              "  cancel.remove();\n",
              "\n",
              "  // Disable the input element since further picks are not allowed.\n",
              "  inputElement.disabled = true;\n",
              "\n",
              "  if (!files) {\n",
              "    return {\n",
              "      response: {\n",
              "        action: 'complete',\n",
              "      }\n",
              "    };\n",
              "  }\n",
              "\n",
              "  for (const file of files) {\n",
              "    const li = document.createElement('li');\n",
              "    li.append(span(file.name, {fontWeight: 'bold'}));\n",
              "    li.append(span(\n",
              "        `(${file.type || 'n/a'}) - ${file.size} bytes, ` +\n",
              "        `last modified: ${\n",
              "            file.lastModifiedDate ? file.lastModifiedDate.toLocaleDateString() :\n",
              "                                    'n/a'} - `));\n",
              "    const percent = span('0% done');\n",
              "    li.appendChild(percent);\n",
              "\n",
              "    outputElement.appendChild(li);\n",
              "\n",
              "    const fileDataPromise = new Promise((resolve) => {\n",
              "      const reader = new FileReader();\n",
              "      reader.onload = (e) => {\n",
              "        resolve(e.target.result);\n",
              "      };\n",
              "      reader.readAsArrayBuffer(file);\n",
              "    });\n",
              "    // Wait for the data to be ready.\n",
              "    let fileData = yield {\n",
              "      promise: fileDataPromise,\n",
              "      response: {\n",
              "        action: 'continue',\n",
              "      }\n",
              "    };\n",
              "\n",
              "    // Use a chunked sending to avoid message size limits. See b/62115660.\n",
              "    let position = 0;\n",
              "    do {\n",
              "      const length = Math.min(fileData.byteLength - position, MAX_PAYLOAD_SIZE);\n",
              "      const chunk = new Uint8Array(fileData, position, length);\n",
              "      position += length;\n",
              "\n",
              "      const base64 = btoa(String.fromCharCode.apply(null, chunk));\n",
              "      yield {\n",
              "        response: {\n",
              "          action: 'append',\n",
              "          file: file.name,\n",
              "          data: base64,\n",
              "        },\n",
              "      };\n",
              "\n",
              "      let percentDone = fileData.byteLength === 0 ?\n",
              "          100 :\n",
              "          Math.round((position / fileData.byteLength) * 100);\n",
              "      percent.textContent = `${percentDone}% done`;\n",
              "\n",
              "    } while (position < fileData.byteLength);\n",
              "  }\n",
              "\n",
              "  // All done.\n",
              "  yield {\n",
              "    response: {\n",
              "      action: 'complete',\n",
              "    }\n",
              "  };\n",
              "}\n",
              "\n",
              "scope.google = scope.google || {};\n",
              "scope.google.colab = scope.google.colab || {};\n",
              "scope.google.colab._files = {\n",
              "  _uploadFiles,\n",
              "  _uploadFilesContinue,\n",
              "};\n",
              "})(self);\n",
              "</script> "
            ]
          },
          "metadata": {}
        },
        {
          "output_type": "stream",
          "name": "stdout",
          "text": [
            "Saving mask_heart.png to mask_heart.png\n",
            "\n",
            "The mask file name = : mask_heart.png\n"
          ]
        }
      ]
    },
    {
      "cell_type": "code",
      "source": [
        "import imageio\n",
        "mask_image = imageio.imread(str(file_name))"
      ],
      "metadata": {
        "colab": {
          "base_uri": "https://localhost:8080/"
        },
        "id": "UzYdI0qGsJI4",
        "outputId": "d57caaff-c457-4d36-81d1-b03ff9281cfe"
      },
      "execution_count": null,
      "outputs": [
        {
          "output_type": "stream",
          "name": "stderr",
          "text": [
            "<ipython-input-84-fe204220d68f>:2: DeprecationWarning: Starting with ImageIO v3 the behavior of this function will switch to that of iio.v3.imread. To keep the current behavior (and make this warning disappear) use `import imageio.v2 as imageio` or call `imageio.v2.imread` directly.\n",
            "  mask_image = imageio.imread(str(file_name))\n"
          ]
        }
      ]
    },
    {
      "cell_type": "code",
      "source": [
        "from wordcloud import WordCloud\n",
        "wordcloud = WordCloud(colormap='prism', mask = mask_image, background_color='white')\n",
        "wordcloudImage = wordcloud.generate(rj_text)\n",
        "\n",
        "wordcloudFile = wordcloudImage.to_file('RJ_wc.png')\n",
        "wordcloudImage.to_image"
      ],
      "metadata": {
        "colab": {
          "base_uri": "https://localhost:8080/"
        },
        "id": "3lUYwL4KqjtP",
        "outputId": "8b6a6202-31e4-4ec5-d5c2-a3bd9b12705c"
      },
      "execution_count": null,
      "outputs": [
        {
          "output_type": "execute_result",
          "data": {
            "text/plain": [
              "<bound method WordCloud.to_image of <wordcloud.wordcloud.WordCloud object at 0x7c87dee0c850>>"
            ]
          },
          "metadata": {},
          "execution_count": 85
        }
      ]
    },
    {
      "cell_type": "code",
      "source": [
        "from PIL import Image\n",
        "import matplotlib.pyplot as plt\n",
        "im = Image.open('RJ_wc.png')\n",
        "fig, aux = plt.subplots()\n",
        "aux.imshow(im)"
      ],
      "metadata": {
        "colab": {
          "base_uri": "https://localhost:8080/",
          "height": 454
        },
        "id": "25c6YJ1_rLSk",
        "outputId": "36b0bf6a-2a31-4162-8484-364ea37471a8"
      },
      "execution_count": null,
      "outputs": [
        {
          "output_type": "execute_result",
          "data": {
            "text/plain": [
              "<matplotlib.image.AxesImage at 0x7c87dee0e140>"
            ]
          },
          "metadata": {},
          "execution_count": 86
        },
        {
          "output_type": "display_data",
          "data": {
            "text/plain": [
              "<Figure size 640x480 with 1 Axes>"
            ],
            "image/png": "[encoded data removed]"
          },
          "metadata": {}
        }
      ]
    }
  ]
}