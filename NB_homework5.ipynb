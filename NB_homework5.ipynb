{
  "nbformat": 4,
  "nbformat_minor": 0,
  "metadata": {
    "colab": {
      "provenance": [],
      "authorship_tag": "ABX9TyNgbvQrkbrf54jRRFCAsBNK",
      "include_colab_link": true
    },
    "kernelspec": {
      "name": "python3",
      "display_name": "Python 3"
    },
    "language_info": {
      "name": "python"
    }
  },
  "cells": [
    {
      "cell_type": "markdown",
      "metadata": {
        "id": "view-in-github",
        "colab_type": "text"
      },
      "source": [
        "<a href=\"https://colab.research.google.com/github/stewartjollymore/NLP_CourseUCSD/blob/main/NB_homework5.ipynb\" target=\"_parent\"><img src=\"https://colab.research.google.com/assets/colab-badge.svg\" alt=\"Open In Colab\"/></a>"
      ]
    },
    {
      "cell_type": "code",
      "execution_count": null,
      "metadata": {
        "id": "MWXUqBvJ1TL3"
      },
      "outputs": [],
      "source": [
        "import numpy as np\n",
        "import pandas as pd\n",
        "\n",
        "data = pd.DataFrame([[\"A1\", \"A2\", \"A2\", \"A1\", \"A3\", \"A3\", \"A1\", \"A3\", \"A1\"],\n",
        "        [\"B1\", \"B2\", \"B2\", \"B1\", \"B4\", \"B3\", \"B4\", \"B4\", \"B3\"]]).T\n"
      ]
    },
    {
      "cell_type": "code",
      "source": [
        "from numpy.core.numeric import indices\n",
        "domain_size_A = len(np.unique(data[0]))\n",
        "domain_size_B = len(np.unique(data[1]))\n",
        "total_count = len(data[0])\n",
        "\n",
        "unique_A = np.unique(data[0])\n",
        "unique_B = np.unique(data[1])\n"
      ],
      "metadata": {
        "id": "_4BwM1Az2_sX"
      },
      "execution_count": null,
      "outputs": []
    },
    {
      "cell_type": "code",
      "source": [
        "\n",
        "for b in range(domain_size_B):\n",
        "  print(\"P(\", unique_B[b], \"|\",unique_A[0], \") =\",(len(data[(data[0]==unique_A[0]) & (data[1]==unique_B[b])]))/len(data[data[0]==unique_A[0]]))\n",
        "print(\"P( B5 | A1) = \",0)\n",
        "print()\n",
        "\n",
        "\n",
        "for b in range(domain_size_B):\n",
        "  print(\"P(\", unique_B[b], \"|\",unique_A[1], \") =\",(len(data[(data[0]==unique_A[1]) & (data[1]==unique_B[b])]))/len(data[data[0]==unique_A[1]]))\n",
        "print(\"P( B5 | A2) = \",0)\n",
        "print()\n",
        "\n",
        "\n",
        "for b in range(domain_size_B):\n",
        "  print(\"P(\", unique_B[b], \"|\",unique_A[2], \") =\",(len(data[(data[0]==unique_A[2]) & (data[1]==unique_B[b])]))/len(data[data[0]==unique_A[2]]))\n",
        "print(\"P( B5 | A3) = \",0)\n"
      ],
      "metadata": {
        "colab": {
          "base_uri": "https://localhost:8080/"
        },
        "id": "xaEwBLo33ikN",
        "outputId": "de5a4032-a0d6-450f-ac58-189e77a0ae86"
      },
      "execution_count": null,
      "outputs": [
        {
          "output_type": "stream",
          "name": "stdout",
          "text": [
            "P( B1 | A1 ) = 0.5\n",
            "P( B2 | A1 ) = 0.0\n",
            "P( B3 | A1 ) = 0.25\n",
            "P( B4 | A1 ) = 0.25\n",
            "P( B5 | A1) =  0\n",
            "\n",
            "P( B1 | A2 ) = 0.0\n",
            "P( B2 | A2 ) = 1.0\n",
            "P( B3 | A2 ) = 0.0\n",
            "P( B4 | A2 ) = 0.0\n",
            "P( B5 | A2) =  0\n",
            "\n",
            "P( B1 | A3 ) = 0.0\n",
            "P( B2 | A3 ) = 0.0\n",
            "P( B3 | A3 ) = 0.3333333333333333\n",
            "P( B4 | A3 ) = 0.6666666666666666\n",
            "P( B5 | A3) =  0\n"
          ]
        }
      ]
    },
    {
      "cell_type": "code",
      "source": [
        "smoothing = [[\"A1\", \"A1\", \"A1\", \"A1\", \"A1\",\n",
        "              \"A2\", \"A2\", \"A2\", \"A2\", \"A2\",\n",
        "              \"A3\", \"A3\", \"A3\", \"A3\", \"A3\"],\n",
        "             [\"B1\", \"B2\", \"B3\", \"B4\", \"B5\",\n",
        "              \"B1\", \"B2\", \"B3\", \"B4\", \"B5\",\n",
        "              \"B1\", \"B2\", \"B3\", \"B4\", \"B5\"]]\n",
        "smoothing = pd.DataFrame(smoothing).T\n",
        "\n",
        "data = data.append(smoothing)\n",
        "\n",
        "unique_A = np.unique(data[0])\n",
        "unique_B = np.unique(data[1])"
      ],
      "metadata": {
        "colab": {
          "base_uri": "https://localhost:8080/"
        },
        "id": "9kEEzmx2A3Dg",
        "outputId": "0a54e4a0-9445-41b1-862f-7a1934e4f408"
      },
      "execution_count": null,
      "outputs": [
        {
          "output_type": "stream",
          "name": "stderr",
          "text": [
            "<ipython-input-70-716d44ef2b7a>:9: FutureWarning: The frame.append method is deprecated and will be removed from pandas in a future version. Use pandas.concat instead.\n",
            "  data = data.append(smoothing)\n"
          ]
        }
      ]
    },
    {
      "cell_type": "code",
      "source": [
        "for b in range(domain_size_B):\n",
        "  print(\"P(\", unique_B[b], \"|\",unique_A[0], \") =\",(len(data[(data[0]==unique_A[0]) & (data[1]==unique_B[b])]))/len(data[data[0]==unique_A[0]]))\n",
        "print()\n",
        "\n",
        "\n",
        "for b in range(domain_size_B):\n",
        "  print(\"P(\", unique_B[b], \"|\",unique_A[1], \") =\",(len(data[(data[0]==unique_A[1]) & (data[1]==unique_B[b])]))/len(data[data[0]==unique_A[1]]))\n",
        "print()\n",
        "\n",
        "\n",
        "for b in range(domain_size_B):\n",
        "  print(\"P(\", unique_B[b], \"|\",unique_A[2], \") =\",(len(data[(data[0]==unique_A[2]) & (data[1]==unique_B[b])]))/len(data[data[0]==unique_A[2]]))\n"
      ],
      "metadata": {
        "colab": {
          "base_uri": "https://localhost:8080/"
        },
        "id": "15QD8pY_8-A0",
        "outputId": "401c83bf-a3e1-40eb-c117-cdac05031101"
      },
      "execution_count": null,
      "outputs": [
        {
          "output_type": "stream",
          "name": "stdout",
          "text": [
            "P( B1 | A1 ) = 0.3333333333333333\n",
            "P( B2 | A1 ) = 0.1111111111111111\n",
            "P( B3 | A1 ) = 0.2222222222222222\n",
            "P( B4 | A1 ) = 0.2222222222222222\n",
            "\n",
            "P( B1 | A2 ) = 0.14285714285714285\n",
            "P( B2 | A2 ) = 0.42857142857142855\n",
            "P( B3 | A2 ) = 0.14285714285714285\n",
            "P( B4 | A2 ) = 0.14285714285714285\n",
            "\n",
            "P( B1 | A3 ) = 0.125\n",
            "P( B2 | A3 ) = 0.125\n",
            "P( B3 | A3 ) = 0.25\n",
            "P( B4 | A3 ) = 0.375\n"
          ]
        }
      ]
    },
    {
      "cell_type": "code",
      "source": [
        "#Problem #2\n",
        "\n",
        "import pandas as pd\n",
        "import numpy as np\n",
        "from sklearn.feature_extraction.text import CountVectorizer\n",
        "\n",
        "\n",
        "cv = CountVectorizer()\n",
        "\n",
        "corpus = [\n",
        "    [\"money, money, money\", \"true\"],\n",
        "    [\"free money for free gambling fun\", \"true\"],\n",
        "    [\"gambling for fun\", \"true\"],\n",
        "    [\"maching learning for fun, fun, fun\", \"false\"],\n",
        "    [\"free maching learning\", \"false\"]\n",
        "    ]\n",
        "\n",
        "new_email = [\"machine learning for free\"]\n",
        "\n",
        "df_corpus = pd.DataFrame(corpus, columns = [\"text\", \"label\"])\n",
        "print(df_corpus)\n",
        "total_docs = len(corpus)"
      ],
      "metadata": {
        "colab": {
          "base_uri": "https://localhost:8080/"
        },
        "id": "Zu7un4_9PU2A",
        "outputId": "7f8df018-cb54-4056-ed71-8e80f5f20cc2"
      },
      "execution_count": null,
      "outputs": [
        {
          "output_type": "stream",
          "name": "stdout",
          "text": [
            "                                 text  label\n",
            "0                 money, money, money   true\n",
            "1    free money for free gambling fun   true\n",
            "2                    gambling for fun   true\n",
            "3  maching learning for fun, fun, fun  false\n",
            "4               free maching learning  false\n"
          ]
        }
      ]
    },
    {
      "cell_type": "code",
      "source": [
        "X = cv.fit_transform(df_corpus[\"text\"])\n",
        "vocab = len(cv.get_feature_names_out())\n",
        "\n",
        "df_all = pd.DataFrame(X.toarray(), columns = cv.get_feature_names_out())\n",
        "df_all[\"label\"] = df_corpus[\"label\"]\n",
        "print(df_all)"
      ],
      "metadata": {
        "colab": {
          "base_uri": "https://localhost:8080/"
        },
        "id": "xGBnt2isQ51i",
        "outputId": "fb5cd5f8-10ea-4f55-8dbf-e217ed5b5905"
      },
      "execution_count": null,
      "outputs": [
        {
          "output_type": "stream",
          "name": "stdout",
          "text": [
            "   for  free  fun  gambling  learning  maching  money  label\n",
            "0    0     0    0         0         0        0      3   true\n",
            "1    1     2    1         1         0        0      1   true\n",
            "2    1     0    1         1         0        0      0   true\n",
            "3    1     0    3         0         1        1      0  false\n",
            "4    0     1    0         0         1        1      0  false\n"
          ]
        }
      ]
    },
    {
      "cell_type": "code",
      "source": [
        "t = df_all.where(df_all[\"label\"] == \"true\").dropna()\n",
        "\n",
        "p_true = len(t)/total_docs\n",
        "\n",
        "print(\"first level prob: spam emails = \", p_true)\n",
        "\n",
        "f = df_all.where(df_all[\"label\"] == \"false\").dropna()\n",
        "\n",
        "p_false = len(f)/total_docs\n",
        "\n",
        "print(\"first level prob: ham emails = \", p_false)"
      ],
      "metadata": {
        "colab": {
          "base_uri": "https://localhost:8080/"
        },
        "id": "m_WFzvm4Rqd5",
        "outputId": "331384fc-5dd7-4096-e956-876aa629d2c3"
      },
      "execution_count": null,
      "outputs": [
        {
          "output_type": "stream",
          "name": "stdout",
          "text": [
            "first level prob: spam emails =  0.6\n",
            "first level prob: ham emails =  0.4\n"
          ]
        }
      ]
    },
    {
      "cell_type": "code",
      "source": [
        "df_true = df_all.where(df_all[\"label\"] == \"true\").dropna()\n",
        "\n",
        "sum_of_cols = df_true.sum(axis = 0)\n",
        "\n",
        "df_true_sum = df_true.append(sum_of_cols, ignore_index = True)\n",
        "df_true_sum.at[3, \"label\"] = \"sum true\"\n",
        "print(df_true_sum)"
      ],
      "metadata": {
        "colab": {
          "base_uri": "https://localhost:8080/"
        },
        "id": "V0VOuOI1Sr1F",
        "outputId": "694dcbdd-1a75-4cc2-b6b8-2a1ab82f4006"
      },
      "execution_count": null,
      "outputs": [
        {
          "output_type": "stream",
          "name": "stdout",
          "text": [
            "   for  free  fun  gambling  learning  maching  money     label\n",
            "0  0.0   0.0  0.0       0.0       0.0      0.0    3.0      true\n",
            "1  1.0   2.0  1.0       1.0       0.0      0.0    1.0      true\n",
            "2  1.0   0.0  1.0       1.0       0.0      0.0    0.0      true\n",
            "3  2.0   2.0  2.0       2.0       0.0      0.0    4.0  sum true\n"
          ]
        },
        {
          "output_type": "stream",
          "name": "stderr",
          "text": [
            "<ipython-input-41-a24ae552317a>:5: FutureWarning: The frame.append method is deprecated and will be removed from pandas in a future version. Use pandas.concat instead.\n",
            "  df_true_sum = df_true.append(sum_of_cols, ignore_index = True)\n"
          ]
        }
      ]
    },
    {
      "cell_type": "code",
      "source": [
        "total_true = 0\n",
        "for i in range(vocab):\n",
        "  total_true = total_true + sum_of_cols[i]\n",
        "\n",
        "sum_of_cols = df_true.sum(axis = 0)\n",
        "sum_of_cols\n",
        "\n",
        "\n",
        "cond_prob = sum_of_cols\n",
        "\n",
        "cond_prob[0:7] = (cond_prob[0:7]+1)/(vocab+total_true)\n",
        "\n",
        "df_true_sum_prop = df_true_sum.append(cond_prob, ignore_index=True)\n",
        "df_true_sum_prop.at[4,\"label\"] = \"probabilty\"\n",
        "print(df_true_sum_prop.T)\n",
        "#cond_prob"
      ],
      "metadata": {
        "colab": {
          "base_uri": "https://localhost:8080/"
        },
        "id": "nRm6PGZjVq5H",
        "outputId": "ed1c6b23-59e9-464b-d166-e82b32020616"
      },
      "execution_count": null,
      "outputs": [
        {
          "output_type": "stream",
          "name": "stdout",
          "text": [
            "             0     1     2         3           4\n",
            "for        0.0   1.0   1.0       2.0    0.157895\n",
            "free       0.0   2.0   0.0       2.0    0.157895\n",
            "fun        0.0   1.0   1.0       2.0    0.157895\n",
            "gambling   0.0   1.0   1.0       2.0    0.157895\n",
            "learning   0.0   0.0   0.0       0.0    0.052632\n",
            "maching    0.0   0.0   0.0       0.0    0.052632\n",
            "money      3.0   1.0   0.0       4.0    0.263158\n",
            "label     true  true  true  sum true  probabilty\n"
          ]
        },
        {
          "output_type": "stream",
          "name": "stderr",
          "text": [
            "<ipython-input-42-ba8be1abf4dd>:13: FutureWarning: The frame.append method is deprecated and will be removed from pandas in a future version. Use pandas.concat instead.\n",
            "  df_true_sum_prop = df_true_sum.append(cond_prob, ignore_index=True)\n"
          ]
        }
      ]
    },
    {
      "cell_type": "code",
      "source": [
        "df_false = df_all.where(df_all[\"label\"] == \"false\").dropna()\n",
        "\n",
        "sum_of_cols = df_false.sum(axis = 0)\n",
        "\n",
        "df_false_sum = df_false.append(sum_of_cols, ignore_index = True)\n",
        "df_false_sum.at[2, \"label\"] = \"sum false\"\n",
        "print(df_false_sum)"
      ],
      "metadata": {
        "colab": {
          "base_uri": "https://localhost:8080/"
        },
        "id": "L7Y_Eo3yT9Mr",
        "outputId": "66192add-7243-4b32-8a2b-14caf1d2fd67"
      },
      "execution_count": null,
      "outputs": [
        {
          "output_type": "stream",
          "name": "stdout",
          "text": [
            "   for  free  fun  gambling  learning  maching  money      label\n",
            "0  1.0   0.0  3.0       0.0       1.0      1.0    0.0      false\n",
            "1  0.0   1.0  0.0       0.0       1.0      1.0    0.0      false\n",
            "2  1.0   1.0  3.0       0.0       2.0      2.0    0.0  sum false\n"
          ]
        },
        {
          "output_type": "stream",
          "name": "stderr",
          "text": [
            "<ipython-input-49-f9739c27867d>:5: FutureWarning: The frame.append method is deprecated and will be removed from pandas in a future version. Use pandas.concat instead.\n",
            "  df_false_sum = df_false.append(sum_of_cols, ignore_index = True)\n"
          ]
        }
      ]
    },
    {
      "cell_type": "code",
      "source": [
        "total_false = 0\n",
        "for i in range(vocab):\n",
        "  total_false = total_false + sum_of_cols[i]\n",
        "\n",
        "sum_of_cols = df_false.sum(axis = 0)\n",
        "sum_of_cols\n",
        "\n",
        "\n",
        "cond_prob = sum_of_cols\n",
        "\n",
        "cond_prob[0:7] = (cond_prob[0:7]+1)/(vocab+total_false)\n",
        "\n",
        "df_false_sum_prop = df_false_sum.append(cond_prob, ignore_index=True)\n",
        "df_false_sum_prop.at[3,\"label\"] = \"probabilty\"\n",
        "print(df_false_sum_prop.T)"
      ],
      "metadata": {
        "colab": {
          "base_uri": "https://localhost:8080/"
        },
        "id": "gZc7NmG_b8Xn",
        "outputId": "b06257f0-0640-4bdf-db22-799a48291367"
      },
      "execution_count": null,
      "outputs": [
        {
          "output_type": "stream",
          "name": "stdout",
          "text": [
            "              0      1          2           3\n",
            "for         1.0    0.0        1.0       0.125\n",
            "free        0.0    1.0        1.0       0.125\n",
            "fun         3.0    0.0        3.0        0.25\n",
            "gambling    0.0    0.0        0.0      0.0625\n",
            "learning    1.0    1.0        2.0      0.1875\n",
            "maching     1.0    1.0        2.0      0.1875\n",
            "money       0.0    0.0        0.0      0.0625\n",
            "label     false  false  sum false  probabilty\n"
          ]
        },
        {
          "output_type": "stream",
          "name": "stderr",
          "text": [
            "<ipython-input-50-f267f4539c98>:13: FutureWarning: The frame.append method is deprecated and will be removed from pandas in a future version. Use pandas.concat instead.\n",
            "  df_false_sum_prop = df_false_sum.append(cond_prob, ignore_index=True)\n"
          ]
        }
      ]
    },
    {
      "cell_type": "code",
      "source": [
        "#Probability \"machine learning for free\" is spam (i.e. true)\n",
        "# P(true)*P(machine|true)*P(learning|true)*P(for|true)*P(free|true)\n",
        "\n",
        "new_email_spam_prob = .6*0.052632*0.052632*0.157895*0.157895\n",
        "\n",
        "new_email_spam_prob"
      ],
      "metadata": {
        "colab": {
          "base_uri": "https://localhost:8080/"
        },
        "id": "SZ2BmuaqdJ06",
        "outputId": "13427959-92d5-4745-f856-0535a84ad186"
      },
      "execution_count": null,
      "outputs": [
        {
          "output_type": "execute_result",
          "data": {
            "text/plain": [
              "4.1436947235277514e-05"
            ]
          },
          "metadata": {},
          "execution_count": 53
        }
      ]
    },
    {
      "cell_type": "code",
      "source": [
        "#Probability \"machine learning for free\" is spam (i.e. true)\n",
        "# P(false)*P(machine|true)*P(learning|true)*P(for|true)*P(free|true)\n",
        "\n",
        "new_email_ham_prob = .4*0.1875*0.1875*0.125*0.125\n",
        "\n",
        "new_email_ham_prob"
      ],
      "metadata": {
        "colab": {
          "base_uri": "https://localhost:8080/"
        },
        "id": "AgyvK6b7ezl8",
        "outputId": "4e94fc1e-b54c-4d58-8403-dadc889f69b9"
      },
      "execution_count": null,
      "outputs": [
        {
          "output_type": "execute_result",
          "data": {
            "text/plain": [
              "0.00021972656250000003"
            ]
          },
          "metadata": {},
          "execution_count": 54
        }
      ]
    },
    {
      "cell_type": "code",
      "source": [
        "if new_email_spam_prob > new_email_ham_prob:\n",
        "  print(\"This email is likely spam\")\n",
        "else:\n",
        "  print(\"This email is like NOT spam\")"
      ],
      "metadata": {
        "colab": {
          "base_uri": "https://localhost:8080/"
        },
        "id": "4fsBwD5gfWDg",
        "outputId": "b03218a7-96ce-4aab-95d7-8180fa523554"
      },
      "execution_count": null,
      "outputs": [
        {
          "output_type": "stream",
          "name": "stdout",
          "text": [
            "This email is like NOT spam\n"
          ]
        }
      ]
    }
  ]
}